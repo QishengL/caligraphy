{
 "cells": [
  {
   "cell_type": "code",
   "execution_count": 18,
   "id": "e6d3c24b",
   "metadata": {},
   "outputs": [],
   "source": [
    "import os\n",
    "import glob\n",
    "import imghdr\n",
    "from PIL import Image"
   ]
  },
  {
   "cell_type": "code",
   "execution_count": 28,
   "id": "74c8a15f",
   "metadata": {},
   "outputs": [],
   "source": [
    "\n",
    "zhuan_image_path_2 = glob.glob(\"zhuanshu_new\\\\*.jpg\")\n",
    "kai_image_path_2 = glob.glob(\"kaishu_new\\\\*.jpg\")\n",
    "li_image_path_2 = glob.glob(\"lishu_new\\\\*.jpg\")\n",
    "xing_image_path_2 = glob.glob(\"xingshu_new\\\\*.jpg\")\n",
    "cao_image_path_2 = glob.glob(\"caoshu_new\\\\*.jpg\")"
   ]
  },
  {
   "cell_type": "code",
   "execution_count": null,
   "id": "415d74f7",
   "metadata": {},
   "outputs": [],
   "source": [
    "#delete black image or broken image"
   ]
  },
  {
   "cell_type": "code",
   "execution_count": 29,
   "id": "d516663c",
   "metadata": {},
   "outputs": [],
   "source": [
    "def remove_bad_image(file_list):\n",
    "    for item in file_list:\n",
    "        if imghdr.what(item) != 'jpeg':\n",
    "            os.remove(item)\n",
    "            break;\n",
    "        im = Image.open(item)\n",
    "        if all(im.getpixel((0, x)) == (0, 0, 0) for x in range(5)):\n",
    "            os.remove(item)"
   ]
  },
  {
   "cell_type": "code",
   "execution_count": 26,
   "id": "4064072a",
   "metadata": {},
   "outputs": [],
   "source": [
    "remove_bad_image(cao_image_path_2)\n",
    "remove_bad_image(li_image_path_2)\n",
    "remove_bad_image(zhuan_image_path_2)\n",
    "remove_bad_image(kai_image_path_2)\n",
    "remove_bad_image(xing_image_path_2)"
   ]
  },
  {
   "cell_type": "code",
   "execution_count": null,
   "id": "88d56924",
   "metadata": {},
   "outputs": [],
   "source": []
  }
 ],
 "metadata": {
  "kernelspec": {
   "display_name": "Python 3",
   "language": "python",
   "name": "python3"
  },
  "language_info": {
   "codemirror_mode": {
    "name": "ipython",
    "version": 3
   },
   "file_extension": ".py",
   "mimetype": "text/x-python",
   "name": "python",
   "nbconvert_exporter": "python",
   "pygments_lexer": "ipython3",
   "version": "3.9.0"
  }
 },
 "nbformat": 4,
 "nbformat_minor": 5
}
